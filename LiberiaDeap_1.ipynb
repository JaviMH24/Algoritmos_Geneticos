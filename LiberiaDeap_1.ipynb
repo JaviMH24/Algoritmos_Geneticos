{
 "cells": [
  {
   "cell_type": "markdown",
   "id": "eadbabd6",
   "metadata": {},
   "source": [
    "# La libreria DEAP"
   ]
  },
  {
   "cell_type": "markdown",
   "id": "2f7fb574",
   "metadata": {},
   "source": [
    "DEAP (abreviatura de Algoritmos Evolutivos Distribuidos en Python) es un marco de trabajo de Python que facilita el desarrollo rápido de soluciones mediante algoritmos genéticos, así como otras técnicas de computación evolutiva.\n",
    "\n",
    "DEAP ofrece diversas estructuras de datos y herramientas que resultan esenciales al implementar una amplia gama de soluciones basadas en algoritmos genéticos."
   ]
  },
  {
   "cell_type": "code",
   "execution_count": null,
   "id": "ebba9a35",
   "metadata": {},
   "outputs": [],
   "source": [
    " pip install deap"
   ]
  },
  {
   "cell_type": "code",
   "execution_count": 5,
   "id": "1145539f",
   "metadata": {},
   "outputs": [],
   "source": [
    "import numpy as np"
   ]
  },
  {
   "cell_type": "markdown",
   "id": "dcd4166e",
   "metadata": {},
   "source": [
    "## Usando el modulo creador"
   ]
  },
  {
   "cell_type": "markdown",
   "id": "75bf0e69",
   "metadata": {},
   "source": [
    "La primera herramienta potente que ofrece el framework DEAP es el módulo creador. Este módulo permite ampliar las clases existentes, complementándolas con nuevos atributos.  Por ejemplo si tenemos una clase llamada empleado, podemos ampliar con la herramienta creadora, la clase Empleado creando una clase llamada Desarrollador de la siguiente manera:"
   ]
  },
  {
   "cell_type": "code",
   "execution_count": 15,
   "id": "2fc8975e",
   "metadata": {},
   "outputs": [],
   "source": [
    "##Defino primero mi clase\n",
    "class Empleado:\n",
    "    def __init__(self, nombre):\n",
    "        self.nombre = nombre\n",
    "\n",
    "#creo la nueva clase Desarrollador que hereda de Empleado y le agrego dos atributos nuevos\n",
    "from deap import creator\n",
    "creator.create(\"Desarrollador\", Empleado, position=\"Desarrollador\", programmingLanguages=set)\n",
    "\n"
   ]
  },
  {
   "cell_type": "markdown",
   "id": "bd30f625",
   "metadata": {},
   "source": [
    "## Creando la función Fitness"
   ]
  },
  {
   "cell_type": "markdown",
   "id": "4db0764f",
   "metadata": {},
   "source": [
    "Al usar DEAP, los valores de aptitud física se encapsulan en una clase de aptitud física. DEAP permite combinar la aptitud física en varios componentes (también llamados objetivos), cada uno con su propio peso. La combinación de estos pesos define el comportamiento o la estrategia de aptitud física para el problema dado.\n"
   ]
  },
  {
   "cell_type": "markdown",
   "id": "0c0f656b",
   "metadata": {},
   "source": [
    "Para definir esta estrategia, DEAP incluye la clase abstracta base.Fitness, que contiene una tupla de pesos. Es necesario asignar valores a esta tupla para definir la estrategia y que la clase sea utilizable. Esto se logra extendiendo la clase base Fitness mediante el creador, de forma similar a como hicimos con la clase Developer anterior:"
   ]
  },
  {
   "cell_type": "code",
   "execution_count": 25,
   "id": "9b7ca705",
   "metadata": {},
   "outputs": [
    {
     "name": "stderr",
     "output_type": "stream",
     "text": [
      "c:\\Users\\javie\\AppData\\Local\\Programs\\Python\\Python313\\Lib\\site-packages\\deap\\creator.py:185: RuntimeWarning: A class named 'FitnessMin' has already been created and it will be overwritten. Consider deleting previous creation of that class or rename it.\n",
      "  warnings.warn(\"A class named '{0}' has already been created and it \"\n"
     ]
    }
   ],
   "source": [
    "### Creando la función Fitness\n",
    "from deap import base\n",
    "\n",
    "#Esta función crea una nueva clase llamada FitnessMax que hereda de base.Fitness. \n",
    "# El atributo weights se establece en (1.0,), lo que indica que se trata de un problema de maximización con un solo objetivo observa el peso que se da\n",
    "creator.create(\"FitnessMax\", base.Fitness, weights=(1.0,))  \n",
    "\n",
    "# De manera similar, podemos crear una clase para problemas de minimización, observa el peso negativo que se da\n",
    "creator.create(\"FitnessMin\", base.Fitness, weights=(-1.0,))\n"
   ]
  },
  {
   "cell_type": "markdown",
   "id": "b092fa02",
   "metadata": {},
   "source": [
    "Esto generará una clase creator.FitnessMax que extiende la clase base.Fitness, con el atributo de clase weights inicializado a un valor de (1.0,)"
   ]
  },
  {
   "cell_type": "markdown",
   "id": "e6e78070",
   "metadata": {},
   "source": [
    "También podemos definir una clase con una estrategia para optimizar más de un objetivo, y con distintos grados de importancia. Esto generará una clase creator.FitnessCompound que utilizará tres componentes de fitness diferentes. El primero tendrá un peso de 1.0, el segundo de 0.2 y el tercero de -0.5. Esto tenderá a maximizar el primer y el segundo componente (u objetivos) y a minimizar el tercero. En términos de importancia, el primer componente tiene la mayor importancia, seguido del tercero y el segundo."
   ]
  },
  {
   "cell_type": "code",
   "execution_count": 27,
   "id": "285d59ea",
   "metadata": {},
   "outputs": [
    {
     "name": "stderr",
     "output_type": "stream",
     "text": [
      "c:\\Users\\javie\\AppData\\Local\\Programs\\Python\\Python313\\Lib\\site-packages\\deap\\creator.py:185: RuntimeWarning: A class named 'FitnessCompound' has already been created and it will be overwritten. Consider deleting previous creation of that class or rename it.\n",
      "  warnings.warn(\"A class named '{0}' has already been created and it \"\n"
     ]
    }
   ],
   "source": [
    "from deap import base\n",
    "\n",
    "# Esto generará una clase creator.FitnessCompound que utilizará tres componentes de fitness diferentes.\n",
    "creator.create(\"FitnessCompound\", base.Fitness, weights=(1.0, 0.2, -0.5))\n"
   ]
  },
  {
   "cell_type": "markdown",
   "id": "fe43eaf2",
   "metadata": {},
   "source": [
    "## Almacenamiento de los valores fitness"
   ]
  },
  {
   "cell_type": "markdown",
   "id": "84932e11",
   "metadata": {},
   "source": [
    "Mientras que la tupla de \"weights\" define la estrategia de aptitud, se utiliza una tupla coincidente, denominada \"values\", para contener los valores de aptitud reales dentro de la clase base.Fitness. Estos valores se obtienen de una función definida por separado, normalmente denominada \"evaluate()\", como se describirá más adelante. Al igual que la tupla de \"weights\", la tupla de \"values\" contiene un valor para cada componente de aptitud (objetivo).\n"
   ]
  },
  {
   "cell_type": "markdown",
   "id": "265d6dd1",
   "metadata": {},
   "source": [
    "Una tercera tupla, \"wvalues\", contiene los valores ponderados obtenidos al multiplicar cada componente de la tupla values ​​con su componente correspondiente de la tupla weights. Al establecer los valores de aptitud de una instancia, estos se calculan y se insertan en wvalues. Estos se utilizan internamente para operaciones de comparación entre individuos."
   ]
  },
  {
   "cell_type": "markdown",
   "id": "205db09b",
   "metadata": {},
   "source": [
    "Las aptitudes ponderadas pueden compararse lexicográficamente utilizando los siguientes operadores: <, >, <= ,>=, ==, !="
   ]
  },
  {
   "cell_type": "markdown",
   "id": "4713c99d",
   "metadata": {},
   "source": [
    "## Creando la clase individual"
   ]
  },
  {
   "cell_type": "markdown",
   "id": "e2a8a1fd",
   "metadata": {},
   "source": [
    "El segundo uso común de la herramienta de \"creator\" en DEAP es definir los individuos que conforman la población del algoritmo genético. Los individuos en los algoritmos genéticos se representan mediante un cromosoma que puede manipularse mediante operadores genéticos.\n",
    "\n",
    "En DEAP, la clase \"Individual\" se crea extendiendo una clase base que representa el cromosoma. Además, cada instancia individual en DEAP debe contener su función de aptitud como atributo."
   ]
  },
  {
   "cell_type": "markdown",
   "id": "78121afb",
   "metadata": {},
   "source": [
    "Para cumplir estos dos requisitos, utilizamos el \"creator\" para crear la clase \"creator.Individual\", como se muestra en este ejemplo:\n",
    "\n"
   ]
  },
  {
   "cell_type": "code",
   "execution_count": 28,
   "id": "5c9d11cb",
   "metadata": {},
   "outputs": [],
   "source": [
    "creator.create(\"Individual\", list, fitness=creator.FitnessMax)"
   ]
  },
  {
   "cell_type": "markdown",
   "id": "5663a53a",
   "metadata": {},
   "source": [
    "##### Cuestiones a tomar en cuenta\n",
    "\n",
    "La anterior línea de código produce los siguientes dos efectos:\n",
    "- La clase Individual creada extiende la clase \"list\" de Python.\n",
    "- Esto significa que el cromosoma utilizado es del tipo lista.\n",
    "- Cada instancia de esta clase Individual tendrá un atributo llamado fitness, de la clase FitnessMax"
   ]
  },
  {
   "cell_type": "markdown",
   "id": "c00820aa",
   "metadata": {},
   "source": [
    "## Uso de la clase Toolbox"
   ]
  },
  {
   "cell_type": "markdown",
   "id": "41b1ead1",
   "metadata": {},
   "source": [
    "La clase \"base.Toolbox\" se utiliza como contenedor de funciones (u operadores) y permite crear nuevos operadores mediante alias y personalización de funciones existentes"
   ]
  },
  {
   "cell_type": "code",
   "execution_count": null,
   "id": "8514fcf8",
   "metadata": {},
   "outputs": [],
   "source": [
    "#Por ejemplo, supongamos que tenemos una función, sumOfTwo(), definida de la siguiente manera:\n",
    "def sumOfTwo(a, b):\n",
    "    return a + b \n",
    "\n",
    "#Usando la caja de herramientas, ahora podemos crear un nuevo operador, incrementByFive(),\n",
    "# que personaliza la función sumOfTwo() de la siguiente manera:\n",
    "\n",
    "from deap import base\n",
    "toolbox= base.Toolbox()\n",
    "\n",
    "toolbox.register(\"incrementByFive\", sumOfTwo, b=5)\n"
   ]
  },
  {
   "cell_type": "markdown",
   "id": "a7d85e93",
   "metadata": {},
   "source": [
    "- El primer argumento que se pasa a la función register() es el nombre (o alias) deseado para el nuevo operador. \n",
    "- El segundo argumento es la función existente que se va a personalizar. \n",
    "- Cada argumento adicional (opcional) se pasa automáticamente a la función personalizada cada vez que se llama al nuevo operador.\n",
    "\n",
    "Entonces, si llamo a la siguiente función:"
   ]
  },
  {
   "cell_type": "code",
   "execution_count": 30,
   "id": "775d4d7d",
   "metadata": {},
   "outputs": [
    {
     "data": {
      "text/plain": [
       "15"
      ]
     },
     "execution_count": 30,
     "metadata": {},
     "output_type": "execute_result"
    }
   ],
   "source": [
    " toolbox.incrementByFive(10)"
   ]
  },
  {
   "cell_type": "markdown",
   "id": "3d0cff02",
   "metadata": {},
   "source": [
    "Que es lo mismo que llamar a la función:"
   ]
  },
  {
   "cell_type": "code",
   "execution_count": 31,
   "id": "96f1df7c",
   "metadata": {},
   "outputs": [
    {
     "data": {
      "text/plain": [
       "15"
      ]
     },
     "execution_count": 31,
     "metadata": {},
     "output_type": "execute_result"
    }
   ],
   "source": [
    " sumOfTwo(10, 5)"
   ]
  },
  {
   "cell_type": "markdown",
   "id": "6a2dd919",
   "metadata": {},
   "source": [
    "Esto se debe a que el argumento b se ha fijado en un valor de 5 mediante la definición del operador incrementByFive."
   ]
  },
  {
   "cell_type": "markdown",
   "id": "581733a2",
   "metadata": {},
   "source": [
    "## Creando Operadores Genéticos"
   ]
  },
  {
   "cell_type": "markdown",
   "id": "55c51409",
   "metadata": {},
   "source": [
    "En muchos casos, la clase Toolbox se utiliza para personalizar funciones existentes del módulo de herramientas. Este módulo contiene numerosas funciones útiles relacionadas con las operaciones genéticas de selección, cruce y mutación, así como utilidades de inicialización. Por ejemplo, el siguiente código define tres alias que se utilizarán posteriormente como operadores genéticos:"
   ]
  },
  {
   "cell_type": "code",
   "execution_count": 34,
   "id": "54bb8b53",
   "metadata": {},
   "outputs": [],
   "source": [
    "from deap import tools\n",
    "toolbox.register(\"select\", tools.selTournament, tournsize=3)\n",
    "toolbox.register(\"mate\", tools.cxTwoPoint)\n",
    "toolbox.register(\"mutate\", tools.mutFlipBit, indpb=0.02)"
   ]
  },
  {
   "cell_type": "markdown",
   "id": "28a048b1",
   "metadata": {},
   "source": [
    "Los tres alias se definen en detalle a continuación:\n",
    "- select se registra como alias de la función de herramientas existente, selTournament(), con el argumento tournsize establecido en 3. Esto crea un operador toolbox.select que realiza la selección de torneos con un tamaño de torneo de 3.\n",
    "\n",
    "- mate se registra como alias de la función de herramientas existente, cxTwoPoint(). Esto genera un operador toolbox.mate que realiza un cruce de dos puntos.\n",
    "\n",
    "- mutate se registra como alias de la función de herramientas existente, mutFlipBit, con el argumento indpb establecido en 0.02, lo que proporciona un operador toolbox.mutate que realiza la mutación de bit de inversión con una probabilidad de inversión de 0.02 para cada atributo."
   ]
  },
  {
   "cell_type": "markdown",
   "id": "7681fb87",
   "metadata": {},
   "source": [
    "### Algunas funciones de DEAP"
   ]
  },
  {
   "cell_type": "markdown",
   "id": "c2d9a916",
   "metadata": {},
   "source": [
    "Las funciones de selección se encuentran en el archivo selection.py. Algunas de ellas se listan a continuación:\n",
    "\n",
    "- selRoulette() implementa la selección de la ruleta.\n",
    "- selStochasticUniversalSampling() implementa el Muestreo Universal Estocástico (SUS).\n",
    "- selTournament() implementa la selección del torneo.\n",
    "\n",
    "Las funciones de cruce se encuentran en el archivo crossover.py:\n",
    " \n",
    "- cxOnePoint() implementa el cruce de un solo punto.\n",
    "- cxUniform() implementa el cruce uniforme.\n",
    "- cxOrdered() implementa el cruce ordenado (OX1).\n",
    "- cxPartialyMatched() implementa el cruce parcialmente coincidente (PMX).\n",
    "\n",
    "Algunas de las funciones de mutación que se encuentran en el archivo mutation.py son:\n",
    "\n",
    "- mutFlipBit() implementa la mutación de bit invertido.\n",
    "- mutGaussian() implementa la mutación de distribución normal.\n"
   ]
  },
  {
   "cell_type": "markdown",
   "id": "ddb727fd",
   "metadata": {},
   "source": [
    "## Creando una población"
   ]
  },
  {
   "cell_type": "markdown",
   "id": "a74b678c",
   "metadata": {},
   "source": [
    "El archivo \"init.py\" del módulo de herramientas contiene varias funciones útiles para crear e inicializar la población del algoritmo genético.\n",
    "\n",
    "Una función especialmente útil es \"initRepeat()\", que acepta tres argumentos:\n",
    "\n",
    "- El tipo de contenedor en el que se guardarán los objetos resultantes-\n",
    "- La función utilizada para generar los objetos que se guardarán en el contenedor\n",
    "- El número de objetos que se generarán.\n",
    "\n",
    "Por ejemplo, la siguiente línea de código generará una lista de 30 números aleatorios entre 0 y 1."
   ]
  },
  {
   "cell_type": "code",
   "execution_count": 37,
   "id": "d800a4b9",
   "metadata": {},
   "outputs": [],
   "source": [
    "import random\n",
    "randomList = tools.initRepeat(list, random.random, 30)"
   ]
  },
  {
   "cell_type": "markdown",
   "id": "0cb317ba",
   "metadata": {},
   "source": [
    "¿Qué pasaría si quisiéramos llenar la lista con números enteros aleatorios que sean 0 o 1? Podríamos, por ejemplo, crear una función que utilice random.radint() para generar un único valor aleatorio de 0 o 1, y luego usarla como función generadora de initRepeat(), como se muestra en el siguiente fragmento de código:\n"
   ]
  },
  {
   "cell_type": "code",
   "execution_count": 40,
   "id": "4c1c373d",
   "metadata": {},
   "outputs": [],
   "source": [
    "def zeroOrOne():\n",
    " return random.randint(0, 1)\n",
    "\n",
    "randomList = tools.initRepeat(list, zeroOrOne, 30)"
   ]
  },
  {
   "cell_type": "markdown",
   "id": "d61dcb80",
   "metadata": {},
   "source": [
    "## Cálculo de fitness"
   ]
  },
  {
   "cell_type": "markdown",
   "id": "60a2adcc",
   "metadata": {},
   "source": [
    "Como mencionamos anteriormente, si bien la clase Fitness define los pesos de aptitud que determinan su estrategia (como maximización o minimización), los valores de aptitud reales se obtienen de una función definida por separado. Esta función de cálculo de aptitud suele registrarse en el módulo de la caja de herramientas mediante el alias \"evaluar\", como se muestra en el siguiente fragmento de código:\n"
   ]
  },
  {
   "cell_type": "code",
   "execution_count": 42,
   "id": "96de14f7",
   "metadata": {},
   "outputs": [],
   "source": [
    "def someFitnessCalculationFunction(individual):\n",
    "    return _some_calculation_of_the_fitness\n",
    "\n",
    "toolbox.register(\"evaluate\",someFitnessCalculationFunction)"
   ]
  },
  {
   "cell_type": "markdown",
   "id": "9011c344",
   "metadata": {},
   "source": [
    "En este ejemplo, someFitnessCalculationFunction() calcula la aptitud física de cualquier individuo, y \"evaluar\" se registra como su alias."
   ]
  },
  {
   "cell_type": "code",
   "execution_count": null,
   "id": "b2e21457",
   "metadata": {},
   "outputs": [],
   "source": []
  },
  {
   "cell_type": "code",
   "execution_count": null,
   "metadata": {},
   "outputs": [],
   "source": []
  },
  {
   "cell_type": "code",
   "execution_count": null,
   "id": "e980c87a",
   "metadata": {},
   "outputs": [],
   "source": []
  }
 ],
 "metadata": {
  "kernelspec": {
   "display_name": "Python 3",
   "language": "python",
   "name": "python3"
  },
  "language_info": {
   "codemirror_mode": {
    "name": "ipython",
    "version": 3
   },
   "file_extension": ".py",
   "mimetype": "text/x-python",
   "name": "python",
   "nbconvert_exporter": "python",
   "pygments_lexer": "ipython3",
   "version": "3.13.5"
  }
 },
 "nbformat": 4,
 "nbformat_minor": 5
}
