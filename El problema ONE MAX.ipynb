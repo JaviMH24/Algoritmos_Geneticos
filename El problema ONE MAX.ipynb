{
 "cells": [
  {
   "cell_type": "markdown",
   "id": "7fe67e72",
   "metadata": {},
   "source": [
    "### **Problema ONE MAX**\n",
    "El *hola mundo de los algoritmos genéticos*"
   ]
  },
  {
   "cell_type": "markdown",
   "id": "94e1206d",
   "metadata": {},
   "source": [
    "El problema **ONE MAX** es un poblema de optimizacion básica que se encarga de encontrar aquella cadena binaria de 5 digitos que maximice la suma de sus digitos. En este caso, la respuesta correcta es tomar la cadena  11111=1+1+1+1+1=5. Para nosotros es sencillo obtenerla, sin embargo, la máquina no tiene el mimso razonamiento que un ser humano, su capacidad de análisis se basa unicamente de operaciones binarias, por ello se debe generar un algoritmo que encuentre la mejor solución. Aquí entra en juego el Algoritmo Genético."
   ]
  },
  {
   "cell_type": "markdown",
   "id": "0f405251",
   "metadata": {},
   "source": [
    "**1er. paso.** Elegir el tipo de cromosoma o población a analizar\n",
    "\n",
    "Cada individuo en este problema puede ser representado por medio de un arreglo n-dimensional donde cada entrada corresponderá a cda digito de la cadena binaria.\n",
    "\n",
    "**2do. paso.** Elegir la función fitness o de aptitud\n",
    "\n",
    "La función de aptitud es sencilla en este problema, ya que podemos programarla de tal manera que haga la suma de las n-entradas contendias en cada arreglo para llegar al valor de aptitud de cada individuo.\n"
   ]
  },
  {
   "cell_type": "markdown",
   "id": "38cdb5e0",
   "metadata": {},
   "source": [
    "**3er. paso.** Elegir los metodos de selección, cruzamiento y mutación.\n",
    "\n",
    "-Para el metodo de selección se utilizaría el *metodo por torneo*.\n",
    "\n",
    "-Para el metodo de cruzamiento se utilizaría el *cruce por un solo punto o el de dos*.\n",
    "\n",
    "-Para el metodo de mutación se utilizaría el *metodo de intercambio de bit*.\n"
   ]
  },
  {
   "cell_type": "markdown",
   "id": "b05af6ba",
   "metadata": {},
   "source": [
    "### **Condiciones de parada**"
   ]
  },
  {
   "cell_type": "markdown",
   "id": "f6f3f7de",
   "metadata": {},
   "source": [
    "Es ideal tener condiciones bajo las cuales el algoritmo se detenga para que no se ejecute de forma indefinida. Algunas que se pueden rescatar del problema son:\n",
    "\n",
    "- El algoritmo se detendrá cuando encuentre el valor de la cadena 11111.\n",
    "- El algoritmo se detendrá cuando la función de aptitud encuentre el valor 5. O dicho de otra manera, cuando el valor de aptitus es igual a las entradas del cromosoma que contiene el individuo.\n",
    "\n",
    "*Nota: Cabe aclarar que estas condiciones en casos reales no se saben del todo, y son dificiles de obtener*\n"
   ]
  },
  {
   "cell_type": "code",
   "execution_count": 5,
   "id": "325649b8",
   "metadata": {},
   "outputs": [
    {
     "ename": "ModuleNotFoundError",
     "evalue": "No module named 'deap'",
     "output_type": "error",
     "traceback": [
      "\u001b[1;31m---------------------------------------------------------------------------\u001b[0m",
      "\u001b[1;31mModuleNotFoundError\u001b[0m                       Traceback (most recent call last)",
      "\u001b[1;32m~\\AppData\\Local\\Temp\\ipykernel_12212\\1114940802.py\u001b[0m in \u001b[0;36m<module>\u001b[1;34m\u001b[0m\n\u001b[0;32m      1\u001b[0m \u001b[1;31m#Modulos a importar\u001b[0m\u001b[1;33m\u001b[0m\u001b[1;33m\u001b[0m\u001b[0m\n\u001b[1;32m----> 2\u001b[1;33m \u001b[1;32mfrom\u001b[0m \u001b[0mdeap\u001b[0m \u001b[1;32mimport\u001b[0m \u001b[0mbase\u001b[0m\u001b[1;33m\u001b[0m\u001b[1;33m\u001b[0m\u001b[0m\n\u001b[0m\u001b[0;32m      3\u001b[0m \u001b[1;32mfrom\u001b[0m \u001b[0mdeap\u001b[0m \u001b[1;32mimport\u001b[0m \u001b[0mcreator\u001b[0m\u001b[1;33m\u001b[0m\u001b[1;33m\u001b[0m\u001b[0m\n\u001b[0;32m      4\u001b[0m \u001b[1;32mfrom\u001b[0m \u001b[0mdeap\u001b[0m \u001b[1;32mimport\u001b[0m \u001b[0mtools\u001b[0m\u001b[1;33m\u001b[0m\u001b[1;33m\u001b[0m\u001b[0m\n\u001b[0;32m      5\u001b[0m \u001b[1;32mimport\u001b[0m \u001b[0mrandom\u001b[0m\u001b[1;33m\u001b[0m\u001b[1;33m\u001b[0m\u001b[0m\n",
      "\u001b[1;31mModuleNotFoundError\u001b[0m: No module named 'deap'"
     ]
    }
   ],
   "source": [
    "#Modulos a importar\n",
    "from deap import base\n",
    "from deap import creator\n",
    "from deap import tools\n",
    "import random\n",
    "import matplotlib.pyplot as plt"
   ]
  },
  {
   "cell_type": "code",
   "execution_count": 6,
   "id": "3b9bf4c1",
   "metadata": {},
   "outputs": [],
   "source": [
    "#Declaramos algunas condiciones para que el algoritmo no trabaje de forma indefinida\n",
    "\n",
    "# Constante del problema:\n",
    "ONE_MAX_LENGTH = 100 # longitud de la cadena de bits que se va a optimizar\n",
    "\n",
    "# Constantes del algoritmo genético:\n",
    "POPULATION_SIZE = 200 # nunmero individuos iniciales en una población\n",
    "P_CROSSOVER = 0.9 # probabilidad de cruzamiento\n",
    "P_MUTATION = 0.1 # probabilida de mutación\n",
    "\n",
    " # Constantes del individuo\n",
    "MAX_GENERATIONS = 50 # Numero maximo de generaciones para la condicion de detención\n"
   ]
  },
  {
   "cell_type": "markdown",
   "id": "375d98c9",
   "metadata": {},
   "source": [
    "Dado que un algoritmo genético trabaja con valores \"aleatorios\" existe un problema con esto. Si se desea volver a correr el programa para observar como se comporta la solución ya que cambia constantemente de valores lo ideal es fijar un valor llamado **semilla** para que en base a este el AG trabaje sin necesidad de cambiar de forma aleatoria los valores de la simulación. Mas adelante se verá como funciona esta semilla."
   ]
  },
  {
   "cell_type": "markdown",
   "id": "03619828",
   "metadata": {},
   "source": [
    "###  **Creando semilla**"
   ]
  },
  {
   "cell_type": "code",
   "execution_count": 7,
   "id": "33374911",
   "metadata": {},
   "outputs": [
    {
     "ename": "NameError",
     "evalue": "name 'random' is not defined",
     "output_type": "error",
     "traceback": [
      "\u001b[1;31m---------------------------------------------------------------------------\u001b[0m",
      "\u001b[1;31mNameError\u001b[0m                                 Traceback (most recent call last)",
      "\u001b[1;32m~\\AppData\\Local\\Temp\\ipykernel_12212\\2899852042.py\u001b[0m in \u001b[0;36m<module>\u001b[1;34m\u001b[0m\n\u001b[0;32m      1\u001b[0m \u001b[0mRANDOM_SEED\u001b[0m \u001b[1;33m=\u001b[0m \u001b[1;36m42\u001b[0m\u001b[1;33m\u001b[0m\u001b[1;33m\u001b[0m\u001b[0m\n\u001b[1;32m----> 2\u001b[1;33m \u001b[0mrandom\u001b[0m\u001b[1;33m.\u001b[0m\u001b[0mseed\u001b[0m\u001b[1;33m(\u001b[0m\u001b[0mRANDOM_SEED\u001b[0m\u001b[1;33m)\u001b[0m\u001b[1;33m\u001b[0m\u001b[1;33m\u001b[0m\u001b[0m\n\u001b[0m",
      "\u001b[1;31mNameError\u001b[0m: name 'random' is not defined"
     ]
    }
   ],
   "source": [
    "RANDOM_SEED = 42\n",
    "random.seed(RANDOM_SEED)"
   ]
  },
  {
   "cell_type": "markdown",
   "id": "da39396c",
   "metadata": {},
   "source": [
    "La clase Toolbox es una de las principales utilidades proporcionadas por el marco DEAP, que nos permite registrar nuevas funciones (u operadores) que personalizan funciones existentes utilizando argumentos preestablecidos. En este caso vamos a modificar una función que elije aleatoriamente de un intervalo (a,b) un número N tal que a<N<b. Se modificará de tal manera que elija solo los valores de 0 o 1 llamada **ZeroorOne**."
   ]
  },
  {
   "cell_type": "code",
   "execution_count": null,
   "id": "03f31bee",
   "metadata": {},
   "outputs": [],
   "source": [
    "toolbox = base.Toolbox()\n",
    "toolbox.register(\"zeroOrOne\", random.randint, 0, 1)"
   ]
  },
  {
   "cell_type": "markdown",
   "id": "cb543d36",
   "metadata": {},
   "source": [
    "### **Creamos la función de aptitud fitness**\n",
    "Para poder encontrar el valor total del indivduo, se utilizarán los pesos que contiene cada tupla. El valor *máximo* o *estrategia máxima* será el peso máximo que contenga el individuo \n"
   ]
  },
  {
   "cell_type": "code",
   "execution_count": 9,
   "id": "e7aaad70",
   "metadata": {},
   "outputs": [
    {
     "ename": "NameError",
     "evalue": "name 'creator' is not defined",
     "output_type": "error",
     "traceback": [
      "\u001b[1;31m---------------------------------------------------------------------------\u001b[0m",
      "\u001b[1;31mNameError\u001b[0m                                 Traceback (most recent call last)",
      "\u001b[1;32m~\\AppData\\Local\\Temp\\ipykernel_12212\\2492337887.py\u001b[0m in \u001b[0;36m<module>\u001b[1;34m\u001b[0m\n\u001b[1;32m----> 1\u001b[1;33m \u001b[0mcreator\u001b[0m\u001b[1;33m.\u001b[0m\u001b[0mcreate\u001b[0m\u001b[1;33m(\u001b[0m\u001b[1;34m\"FitnessMax\"\u001b[0m\u001b[1;33m,\u001b[0m \u001b[0mbase\u001b[0m\u001b[1;33m.\u001b[0m\u001b[0mFitness\u001b[0m\u001b[1;33m,\u001b[0m \u001b[0mweights\u001b[0m\u001b[1;33m=\u001b[0m\u001b[1;33m(\u001b[0m\u001b[1;36m1.0\u001b[0m\u001b[1;33m,\u001b[0m\u001b[1;33m)\u001b[0m\u001b[1;33m)\u001b[0m\u001b[1;33m\u001b[0m\u001b[1;33m\u001b[0m\u001b[0m\n\u001b[0m",
      "\u001b[1;31mNameError\u001b[0m: name 'creator' is not defined"
     ]
    }
   ],
   "source": [
    "creator.create(\"FitnessMax\", base.Fitness, weights=(1.0,))"
   ]
  },
  {
   "cell_type": "markdown",
   "id": "8b16266b",
   "metadata": {},
   "source": [
    "### **Función para crear el cromosoma**\n",
    "Creamos una función que genere al individuo en forma de arreglo n-dimensional o en forma de lista para que represente el cromosoma del individuo."
   ]
  },
  {
   "cell_type": "code",
   "execution_count": null,
   "id": "31e6ecbc",
   "metadata": {},
   "outputs": [],
   "source": [
    "creator.create(\"Individual\", list, fitness=creator.FitnessMax)"
   ]
  },
  {
   "cell_type": "markdown",
   "id": "0f6095f0",
   "metadata": {},
   "source": [
    "La siguiente función crea al individuo pero vale la pena saber a que se refiere cada argumento:\n",
    "\n",
    "### Explicación de cada parte:\n",
    "\n",
    "1. **`toolbox.register(\"individualCreator\", ...)`**:\n",
    "   - El método `register` se usa para registrar una función con un nombre, en este caso `\"individualCreator\"`. Esto permite usar esa función más tarde a través de `toolbox.individualCreator`.\n",
    "   - Esta función es la encargada de crear un \"individuo\", que es un elemento básico de la población en un algoritmo evolutivo. Un individuo representa una posible solución al problema que estás tratando de resolver.\n",
    "\n",
    "2. **`tools.initRepeat`**:\n",
    "   - `initRepeat` es una función de DEAP que permite inicializar una lista repetidamente con un valor que se obtiene al llamar a una función. En este caso, se utiliza para inicializar un individuo.\n",
    "   - `initRepeat` toma como primer argumento el tipo de contenedor (en este caso, el tipo `creator.Individual`), luego una función que genera los elementos individuales (en este caso, `toolbox.zeroOrOne`), y por último el número de elementos que debe tener la lista (`ONE_MAX_LENGTH`).\n",
    "\n",
    "3. **`creator.Individual`**:\n",
    "   - `creator` es una clase en DEAP que se utiliza para definir los tipos de individuos en el algoritmo. En este caso, se está creando un tipo de individuo que se denomina `Individual`. Este tipo de individuo probablemente será una lista o array que contiene valores binarios o de algún otro tipo.\n",
    "   - En resumen, `creator.Individual` define el tipo de contenedor donde se almacenarán los genes (valores del individuo).\n",
    "\n",
    "4. **`toolbox.zeroOrOne`**:\n",
    "   - `toolbox.zeroOrOne` es probablemente una función definida por el usuario o previamente registrada que devuelve valores binarios (0 o 1). Esto sugiere que cada \"gen\" del individuo será un valor de 0 o 1, lo cual es típico en un algoritmo genético que resuelve problemas de optimización binaria, como el problema \"OneMax\", que mencionas en la variable `ONE_MAX_LENGTH`.\n",
    "\n",
    "5. **`ONE_MAX_LENGTH`**:\n",
    "   - `ONE_MAX_LENGTH` es una constante que representa la longitud del individuo. Es decir, el número de genes (en este caso, bits) que tendrá cada solución. El valor de `ONE_MAX_LENGTH` es crucial, ya que indica el tamaño de cada cromosoma o individuo en la población.\n"
   ]
  },
  {
   "cell_type": "code",
   "execution_count": null,
   "id": "aecec4d3",
   "metadata": {},
   "outputs": [],
   "source": [
    "toolbox.register(\"individualCreator\", tools.initRepeat,\n",
    " creator.Individual, toolbox.zeroOrOne, ONE_MAX_LENGTH)\n"
   ]
  },
  {
   "cell_type": "code",
   "execution_count": null,
   "id": "62ef3bf9",
   "metadata": {},
   "outputs": [],
   "source": []
  },
  {
   "cell_type": "code",
   "execution_count": null,
   "id": "2744dbef",
   "metadata": {},
   "outputs": [],
   "source": []
  },
  {
   "cell_type": "code",
   "execution_count": null,
   "id": "3b5fb8c2",
   "metadata": {},
   "outputs": [],
   "source": []
  }
 ],
 "metadata": {
  "kernelspec": {
   "display_name": "Python 3 (ipykernel)",
   "language": "python",
   "name": "python3"
  },
  "language_info": {
   "codemirror_mode": {
    "name": "ipython",
    "version": 3
   },
   "file_extension": ".py",
   "mimetype": "text/x-python",
   "name": "python",
   "nbconvert_exporter": "python",
   "pygments_lexer": "ipython3",
   "version": "3.9.13"
  }
 },
 "nbformat": 4,
 "nbformat_minor": 5
}
